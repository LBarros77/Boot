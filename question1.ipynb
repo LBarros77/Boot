{
  "nbformat": 4,
  "nbformat_minor": 0,
  "metadata": {
    "colab": {
      "provenance": [],
      "authorship_tag": "ABX9TyO6xY3YmmIY5SoiI9L0Mcjx",
      "include_colab_link": true
    },
    "kernelspec": {
      "name": "python3",
      "display_name": "Python 3"
    },
    "language_info": {
      "name": "python"
    }
  },
  "cells": [
    {
      "cell_type": "markdown",
      "metadata": {
        "id": "view-in-github",
        "colab_type": "text"
      },
      "source": [
        "<a href=\"https://colab.research.google.com/github/LBarros77/Boot/blob/master/question1.ipynb\" target=\"_parent\"><img src=\"https://colab.research.google.com/assets/colab-badge.svg\" alt=\"Open In Colab\"/></a>"
      ]
    },
    {
      "cell_type": "code",
      "execution_count": 1,
      "metadata": {
        "id": "E0VKS6NMzrkm",
        "colab": {
          "base_uri": "https://localhost:8080/"
        },
        "outputId": "68cf78b4-5376-4918-b7b7-48bacb4b6692"
      },
      "outputs": [
        {
          "output_type": "stream",
          "name": "stdout",
          "text": [
            "Collecting pulp\n",
            "  Downloading PuLP-2.8.0-py3-none-any.whl (17.7 MB)\n",
            "\u001b[2K     \u001b[90m━━━━━━━━━━━━━━━━━━━━━━━━━━━━━━━━━━━━━━━━\u001b[0m \u001b[32m17.7/17.7 MB\u001b[0m \u001b[31m38.0 MB/s\u001b[0m eta \u001b[36m0:00:00\u001b[0m\n",
            "\u001b[?25hInstalling collected packages: pulp\n",
            "Successfully installed pulp-2.8.0\n"
          ]
        }
      ],
      "source": [
        "pip install pulp"
      ]
    },
    {
      "cell_type": "code",
      "source": [
        "from pulp import LpMinimize, LpProblem, LpStatus, lpSum, LpVariable\n"
      ],
      "metadata": {
        "id": "aTAVIyFp0Q5S"
      },
      "execution_count": 2,
      "outputs": []
    },
    {
      "cell_type": "code",
      "source": [
        "# create model to model you problem how Minimize or Maximize\n",
        "prob = LpProblem(name=\"proteinas-vitaminas\", sense=LpMinimize)"
      ],
      "metadata": {
        "id": "BZ61enOv2BRw"
      },
      "execution_count": 3,
      "outputs": []
    },
    {
      "cell_type": "code",
      "source": [
        "x = LpVariable(name=\"Vitamina\", lowBound=0)\n",
        "y = LpVariable(name=\"Proteina\", lowBound=0)"
      ],
      "metadata": {
        "id": "MokJ866E5atg"
      },
      "execution_count": 4,
      "outputs": []
    },
    {
      "cell_type": "code",
      "source": [
        "prob += 4*x + 8*x == 32\n",
        "prob += 6*y + 6*y == 36"
      ],
      "metadata": {
        "id": "IQGsZ1SN6NgJ"
      },
      "execution_count": 5,
      "outputs": []
    },
    {
      "cell_type": "code",
      "source": [
        "prob.solve()\n",
        "print(\"Status\", LpStatus[prob.status])\n",
        "for v in prob.variables():\n",
        "  print(v.name, \"=\", v.varValue)"
      ],
      "metadata": {
        "colab": {
          "base_uri": "https://localhost:8080/"
        },
        "id": "_UKRE6m6DiJB",
        "outputId": "d7a5eb6f-5dc0-4377-99dc-8cc018ed3adf"
      },
      "execution_count": 6,
      "outputs": [
        {
          "output_type": "stream",
          "name": "stdout",
          "text": [
            "Status Optimal\n",
            "Proteina = 3.0\n",
            "Vitamina = 2.6666667\n",
            "__dummy = None\n"
          ]
        }
      ]
    }
  ]
}